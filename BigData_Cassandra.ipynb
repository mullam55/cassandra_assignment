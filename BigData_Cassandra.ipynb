{
  "nbformat": 4,
  "nbformat_minor": 0,
  "metadata": {
    "colab": {
      "provenance": []
    },
    "kernelspec": {
      "name": "python3",
      "display_name": "Python 3"
    },
    "language_info": {
      "name": "python"
    }
  },
  "cells": [
    {
      "cell_type": "code",
      "execution_count": 43,
      "metadata": {
        "colab": {
          "base_uri": "https://localhost:8080/"
        },
        "id": "o4a9L8uKp7V6",
        "outputId": "b2876647-fa87-47eb-db8d-e18538ab74b5"
      },
      "outputs": [
        {
          "output_type": "stream",
          "name": "stdout",
          "text": [
            "Requirement already satisfied: pandas in /usr/local/lib/python3.10/dist-packages (2.2.2)\n",
            "Requirement already satisfied: numpy>=1.22.4 in /usr/local/lib/python3.10/dist-packages (from pandas) (1.26.4)\n",
            "Requirement already satisfied: python-dateutil>=2.8.2 in /usr/local/lib/python3.10/dist-packages (from pandas) (2.8.2)\n",
            "Requirement already satisfied: pytz>=2020.1 in /usr/local/lib/python3.10/dist-packages (from pandas) (2024.2)\n",
            "Requirement already satisfied: tzdata>=2022.7 in /usr/local/lib/python3.10/dist-packages (from pandas) (2024.2)\n",
            "Requirement already satisfied: six>=1.5 in /usr/local/lib/python3.10/dist-packages (from python-dateutil>=2.8.2->pandas) (1.16.0)\n",
            "Requirement already satisfied: cassandra-driver in /usr/local/lib/python3.10/dist-packages (3.29.2)\n",
            "Requirement already satisfied: geomet<0.3,>=0.1 in /usr/local/lib/python3.10/dist-packages (from cassandra-driver) (0.2.1.post1)\n",
            "Requirement already satisfied: click in /usr/local/lib/python3.10/dist-packages (from geomet<0.3,>=0.1->cassandra-driver) (8.1.7)\n",
            "Requirement already satisfied: six in /usr/local/lib/python3.10/dist-packages (from geomet<0.3,>=0.1->cassandra-driver) (1.16.0)\n"
          ]
        }
      ],
      "source": [
        "!pip install pandas\n",
        "!pip install cassandra-driver"
      ]
    },
    {
      "cell_type": "code",
      "source": [
        "from cassandra.cluster import Cluster\n",
        "from cassandra.auth import PlainTextAuthProvider\n",
        "import json\n",
        "\n",
        "cloud_config= {\n",
        "  'secure_connect_bundle': '/content/drive/MyDrive/Colab Notebooks/secure-connect-momin-db.zip'\n",
        "}\n",
        "\n",
        "with open(\"/content/drive/MyDrive/Colab Notebooks/momin_db-token.json\") as f:\n",
        "    secrets = json.load(f)\n",
        "\n",
        "CLIENT_ID = secrets[\"clientId\"]\n",
        "CLIENT_SECRET = secrets[\"secret\"]\n",
        "\n",
        "auth_provider = PlainTextAuthProvider(CLIENT_ID, CLIENT_SECRET)\n",
        "cluster = Cluster(cloud=cloud_config, auth_provider=auth_provider)\n",
        "session = cluster.connect()\n",
        "\n",
        "session.set_keyspace('sales1')\n",
        "print(f\"Connected to the Database and connected to the keyspace: {session.keyspace}\")"
      ],
      "metadata": {
        "colab": {
          "base_uri": "https://localhost:8080/"
        },
        "id": "jDnLFdP1soDM",
        "outputId": "d8386ae2-3a92-4829-9e28-b403d704667e"
      },
      "execution_count": 44,
      "outputs": [
        {
          "output_type": "stream",
          "name": "stderr",
          "text": [
            "WARNING:cassandra.cluster:Downgrading core protocol version from 66 to 65 for 5ddc3304-8ba9-4614-8c19-0b928b1313e5-us-east1.db.astra.datastax.com:29042:0669df0f-031f-383e-b452-67a9679bbc6a. To avoid this, it is best practice to explicitly set Cluster(protocol_version) to the version supported by your cluster. http://datastax.github.io/python-driver/api/cassandra/cluster.html#cassandra.cluster.Cluster.protocol_version\n",
            "WARNING:cassandra.cluster:Downgrading core protocol version from 65 to 5 for 5ddc3304-8ba9-4614-8c19-0b928b1313e5-us-east1.db.astra.datastax.com:29042:0669df0f-031f-383e-b452-67a9679bbc6a. To avoid this, it is best practice to explicitly set Cluster(protocol_version) to the version supported by your cluster. http://datastax.github.io/python-driver/api/cassandra/cluster.html#cassandra.cluster.Cluster.protocol_version\n",
            "WARNING:cassandra.cluster:Downgrading core protocol version from 5 to 4 for 5ddc3304-8ba9-4614-8c19-0b928b1313e5-us-east1.db.astra.datastax.com:29042:0669df0f-031f-383e-b452-67a9679bbc6a. To avoid this, it is best practice to explicitly set Cluster(protocol_version) to the version supported by your cluster. http://datastax.github.io/python-driver/api/cassandra/cluster.html#cassandra.cluster.Cluster.protocol_version\n"
          ]
        },
        {
          "output_type": "stream",
          "name": "stdout",
          "text": [
            "Connected to the Database and connected to the keyspace: sales1\n"
          ]
        }
      ]
    },
    {
      "cell_type": "code",
      "source": [
        "# Create Bronze Level Table\n",
        "session.execute(\"\"\"\n",
        "    CREATE TABLE IF NOT EXISTS bronze_table (\n",
        "        region TEXT,\n",
        "        country TEXT,\n",
        "        item_type TEXT,\n",
        "        sales_channel TEXT,\n",
        "        order_priority TEXT,\n",
        "        order_date TEXT,\n",
        "        order_id UUID PRIMARY KEY,\n",
        "        ship_date TEXT,\n",
        "        units_sold INT,\n",
        "        unit_price DECIMAL,\n",
        "        unit_cost DECIMAL,\n",
        "        total_revenue DECIMAL,\n",
        "        total_cost DECIMAL,\n",
        "        total_profit DECIMAL\n",
        "    );\n",
        "\"\"\")\n",
        "print(\"Bronze Level Table created successfully.\")\n",
        "\n"
      ],
      "metadata": {
        "colab": {
          "base_uri": "https://localhost:8080/"
        },
        "id": "3SHE3c4Tsphn",
        "outputId": "82ad5ad1-1d14-41f8-8c96-148f91aef460"
      },
      "execution_count": 45,
      "outputs": [
        {
          "output_type": "stream",
          "name": "stdout",
          "text": [
            "Bronze Level Table created successfully.\n"
          ]
        }
      ]
    },
    {
      "cell_type": "code",
      "source": [
        "import pandas as pd\n",
        "import uuid\n",
        "\n",
        "# Load data from CSV using pandas\n",
        "csv_file_path = '/content/drive/MyDrive/Colab Notebooks/sales_100.csv'  # Replace with your actual CSV file path\n",
        "df = pd.read_csv(csv_file_path)\n",
        "\n",
        "# Inserting csv data into the Bronze table\n",
        "for _, row in df.iterrows():\n",
        "    session.execute(\"\"\"\n",
        "        INSERT INTO bronze_table (region, country, item_type, sales_channel, order_priority,\n",
        "                                  order_date, order_id, ship_date, units_sold, unit_price,\n",
        "                                  unit_cost, total_revenue, total_cost, total_profit)\n",
        "        VALUES (%s, %s, %s, %s, %s, %s, %s, %s, %s, %s, %s, %s, %s, %s)\n",
        "    \"\"\", (\n",
        "        row['Region'], row['Country'], row['Item Type'], row['Sales Channel'],\n",
        "        row['Order Priority'], row['Order Date'], uuid.uuid4(),  # Generate UUID for each order\n",
        "        row['Ship Date'], row['UnitsSold'], row['UnitPrice'],\n",
        "        row['UnitCost'], row['TotalRevenue'], row['TotalCost'], row['TotalProfit']\n",
        "    ))\n",
        "\n",
        "print(\"Data inserted into bronze_table.\")\n",
        "\n",
        "data = session.execute(\"SELECT * FROM bronze_table LIMIT 5;\")\n",
        "for row in data:\n",
        "    print(row)\n"
      ],
      "metadata": {
        "colab": {
          "base_uri": "https://localhost:8080/"
        },
        "id": "TFPIKhdzszxg",
        "outputId": "2449e97f-e5c4-44be-bbed-888be28b875a"
      },
      "execution_count": 46,
      "outputs": [
        {
          "output_type": "stream",
          "name": "stdout",
          "text": [
            "Data inserted into bronze_table.\n",
            "Row(order_id=UUID('7b1e856f-abdd-446d-b4cd-dd407302452f'), country='Malawi', item_type='Meat', order_date='3/1/2016', order_priority='H', region='Sub-Saharan Africa', sales_channel='Offline', ship_date='3/12/2016', total_cost=Decimal('1857730.86'), total_profit=Decimal('291376.8'), total_revenue=Decimal('2149107.66'), unit_cost=Decimal('364.69'), unit_price=Decimal('421.89'), units_sold=5094)\n",
            "Row(order_id=UUID('c96fc13d-24eb-4a06-9957-78a4a64fdfdc'), country='New Zealand', item_type='Beverages', order_date='10/11/2012', order_priority='M', region='Australia and Oceania', sales_channel='Online', ship_date='11/4/2012', total_cost=Decimal('184000.52'), total_profit=Decimal('90640.08'), total_revenue=Decimal('274640.6'), unit_cost=Decimal('31.79'), unit_price=Decimal('47.45'), units_sold=5788)\n",
            "Row(order_id=UUID('d016c4ed-ff45-47c2-ac2b-3e984f922b07'), country='Greece', item_type='Cereal', order_date='8/22/2015', order_priority='H', region='Europe', sales_channel='Online', ship_date='10/8/2015', total_cost=Decimal('1015812.14'), total_profit=Decimal('768429.66'), total_revenue=Decimal('1784241.8'), unit_cost=Decimal('117.11'), unit_price=Decimal('205.7'), units_sold=8674)\n",
            "Row(order_id=UUID('a896dffe-e490-46cc-ada7-a9997f0f02f3'), country='Dominica', item_type='Household', order_date='11/19/2011', order_priority='C', region='Central America and the Caribbean', sales_channel='Offline', ship_date='12/13/2011', total_cost=Decimal('3539891.76'), total_profit=Decimal('1167402.12'), total_revenue=Decimal('4707293.88'), unit_cost=Decimal('502.54'), unit_price=Decimal('668.27'), units_sold=7044)\n",
            "Row(order_id=UUID('50f486c4-ebc9-4663-be7c-bcaa6432fd54'), country='India', item_type='Snacks', order_date='10/10/2012', order_priority='L', region='Asia', sales_channel='Online', ship_date='11/20/2012', total_cost=Decimal('521206.56'), total_profit=Decimal('294943.86'), total_revenue=Decimal('816150.42'), unit_cost=Decimal('97.44'), unit_price=Decimal('152.58'), units_sold=5349)\n"
          ]
        }
      ]
    },
    {
      "cell_type": "code",
      "source": [
        "# Create Silver Level Table\n",
        "session.execute(\"\"\"\n",
        "    CREATE TABLE IF NOT EXISTS silver_table (\n",
        "        order_id UUID PRIMARY KEY,\n",
        "        region TEXT,\n",
        "        country TEXT,\n",
        "        item_type TEXT,\n",
        "        sales_channel TEXT,\n",
        "        total_revenue DECIMAL,\n",
        "    );\n",
        "\"\"\")\n",
        "print(\"Silver Level Table created successfully.\")\n",
        "\n"
      ],
      "metadata": {
        "id": "mDM8FOePydrg",
        "colab": {
          "base_uri": "https://localhost:8080/"
        },
        "outputId": "6a216835-52fa-4fbe-958e-499787a4cc0e"
      },
      "execution_count": 47,
      "outputs": [
        {
          "output_type": "stream",
          "name": "stdout",
          "text": [
            "Silver Level Table created successfully.\n"
          ]
        }
      ]
    },
    {
      "cell_type": "code",
      "source": [
        "# Cleaning the data before inserting into the silver table\n",
        "# Drop rows that have null or missing values and only picking useful columns to the silver table.\n",
        "df_cleaned = df.dropna(subset=['Region', 'Country', 'Item Type', 'Sales Channel', 'Order Date', 'Ship Date',\n",
        "                               'UnitsSold', 'UnitPrice', 'UnitCost', 'TotalRevenue', 'TotalCost', 'TotalProfit'])\n",
        "\n",
        "# Insert cleaned data from bronze table into the Silver table\n",
        "for _, row in df_cleaned.iterrows():\n",
        "    session.execute(\"\"\"\n",
        "        INSERT INTO silver_table (order_id, region, country, item_type, sales_channel, total_revenue)\n",
        "        VALUES (%s, %s, %s, %s, %s, %s)\n",
        "    \"\"\", (\n",
        "        uuid.uuid4(),  # Generate UUID for each order\n",
        "        row['Region'], row['Country'], row['Item Type'], row['Sales Channel'], row['TotalRevenue']\n",
        "    ))\n",
        "print(\"Data inserted into silver_table.\")\n",
        "data = session.execute(\"SELECT * FROM silver_table LIMIT 5;\")\n",
        "for row in data:\n",
        "    print(row)"
      ],
      "metadata": {
        "colab": {
          "base_uri": "https://localhost:8080/"
        },
        "id": "TYuBAeaYs15E",
        "outputId": "6a831605-25de-49d8-bfa1-1e09a59e421a"
      },
      "execution_count": 48,
      "outputs": [
        {
          "output_type": "stream",
          "name": "stdout",
          "text": [
            "Data inserted into silver_table.\n",
            "Row(order_id=UUID('9c3b8cd2-2d0b-437c-9437-a6ba85d2df1e'), country='Iceland', item_type='Baby Food', region='Europe', sales_channel='Offline', total_revenue=Decimal('628499.36'))\n",
            "Row(order_id=UUID('76c4dc1a-170a-494c-93d1-f775641d61d4'), country='Thailand', item_type='Fruits', region='Asia', sales_channel='Offline', total_revenue=Decimal('14508.15'))\n",
            "Row(order_id=UUID('f9f54ecc-7942-4558-a2e8-200c5aac5d54'), country='Oman', item_type='Cosmetics', region='Middle East and North Africa', sales_channel='Online', total_revenue=Decimal('3470056.4'))\n",
            "Row(order_id=UUID('440d2f8d-c160-414b-bffc-cd1b99d101d9'), country='Indonesia', item_type='Household', region='Asia', sales_channel='Online', total_revenue=Decimal('416332.21'))\n",
            "Row(order_id=UUID('c06e1bcf-caa4-41ce-b819-e223a26a1fcf'), country='Antigua and Barbuda ', item_type='Office Supplies', region='Central America and the Caribbean', sales_channel='Offline', total_revenue=Decimal('4100669.37'))\n"
          ]
        }
      ]
    },
    {
      "cell_type": "code",
      "source": [
        "# Create Gold Level Table 1: Sales by country\n",
        "session.execute(\"\"\"\n",
        "    CREATE TABLE IF NOT EXISTS gold_sales_by_country (\n",
        "        country TEXT PRIMARY KEY,\n",
        "        total_sales DECIMAL\n",
        "    );\n",
        "\"\"\")\n",
        "print(\"Gold Level Table (Sales by Country) created successfully.\")\n",
        "\n",
        "# Create Gold Level Table 2: Sales by Item Type\n",
        "session.execute(\"\"\"\n",
        "    CREATE TABLE IF NOT EXISTS gold_sales_by_item_type (\n",
        "        item_type TEXT PRIMARY KEY,\n",
        "        total_sales DECIMAL\n",
        "    );\n",
        "\"\"\")\n",
        "print(\"Gold Level Table (Sales by Item Type) created successfully.\")\n",
        "\n",
        "# Create Gold Level Table 3: Sales by region\n",
        "session.execute(\"\"\"\n",
        "    CREATE TABLE IF NOT EXISTS gold_sales_by_region (\n",
        "        region TEXT PRIMARY KEY,\n",
        "        total_sales DECIMAL\n",
        "    );\n",
        "\"\"\")\n",
        "print(\"Gold Level Table (Sales by region) created successfully.\")"
      ],
      "metadata": {
        "id": "-n2A_a1LyhuA",
        "colab": {
          "base_uri": "https://localhost:8080/"
        },
        "outputId": "e4bf3601-151f-454e-d603-c078a059af58"
      },
      "execution_count": 49,
      "outputs": [
        {
          "output_type": "stream",
          "name": "stdout",
          "text": [
            "Gold Level Table (Sales by Country) created successfully.\n",
            "Gold Level Table (Sales by Item Type) created successfully.\n",
            "Gold Level Table (Sales by region) created successfully.\n"
          ]
        }
      ]
    },
    {
      "cell_type": "code",
      "source": [
        "rows_silver_table = session.execute(\"SELECT * FROM silver_table;\")\n",
        "\n",
        "region_sales = {}\n",
        "country_sales = {}\n",
        "item_type_sales = {}\n",
        "\n",
        "for row in rows_silver_table:\n",
        "    # Aggregate by Region\n",
        "    if row.region in region_sales:\n",
        "        region_sales[row.region] += row.total_revenue\n",
        "    else:\n",
        "        region_sales[row.region] = row.total_revenue\n",
        "\n",
        "    # Aggregate by Item Type\n",
        "    if row.country in country_sales:\n",
        "        country_sales[row.country] += row.total_revenue\n",
        "    else:\n",
        "        country_sales[row.country] = row.total_revenue\n",
        "\n",
        "    # Aggregate by Item Type\n",
        "    if row.item_type in item_type_sales:\n",
        "        item_type_sales[row.item_type] += row.total_revenue\n",
        "    else:\n",
        "        item_type_sales[row.item_type] = row.total_revenue\n",
        "\n",
        "# Insert aggregated data into Gold Level Table 1: Sales by Region\n",
        "for country, total_sales in country_sales.items():\n",
        "    session.execute(\"\"\"\n",
        "        INSERT INTO gold_sales_by_country (country, total_sales)\n",
        "        VALUES (%s, %s)\n",
        "    \"\"\", (country, total_sales))\n",
        "\n",
        "# Insert aggregated data into Gold Level Table 2: Sales by Item Type\n",
        "for item_type, total_sales in item_type_sales.items():\n",
        "    session.execute(\"\"\"\n",
        "        INSERT INTO gold_sales_by_item_type (item_type, total_sales)\n",
        "        VALUES (%s, %s)\n",
        "    \"\"\", (item_type, total_sales))\n",
        "\n",
        "# Insert aggregated data into Gold Level Table 3: Sales by Channel\n",
        "for region, total_sales in region_sales.items():\n",
        "    session.execute(\"\"\"\n",
        "        INSERT INTO gold_sales_by_region (region, total_sales)\n",
        "        VALUES (%s, %s)\n",
        "    \"\"\", (region, total_sales))\n",
        "\n",
        "print(\"Data inserted into gold tables\")\n"
      ],
      "metadata": {
        "colab": {
          "base_uri": "https://localhost:8080/"
        },
        "id": "EWUXJn1ys5_3",
        "outputId": "4d99e291-60e2-4533-d8ae-1e4791e5ca12"
      },
      "execution_count": 50,
      "outputs": [
        {
          "output_type": "stream",
          "name": "stdout",
          "text": [
            "Data inserted into gold tables\n"
          ]
        }
      ]
    },
    {
      "cell_type": "code",
      "source": [
        "# Querying the table gold_sales_by_country table to verify\n",
        "rows = session.execute(\"SELECT * FROM gold_sales_by_country;\")\n",
        "for row in rows:\n",
        "    print(row)\n",
        "\n"
      ],
      "metadata": {
        "colab": {
          "base_uri": "https://localhost:8080/"
        },
        "id": "GJY6vwrks8kz",
        "outputId": "3febc05f-c6b1-4ff5-dd69-6e5bcecaa3ae"
      },
      "execution_count": 51,
      "outputs": [
        {
          "output_type": "stream",
          "name": "stdout",
          "text": [
            "Row(country='Malaysia', total_sales=Decimal('434357.3'))\n",
            "Row(country='Israel', total_sales=Decimal('223442.05'))\n",
            "Row(country='Serbia', total_sales=Decimal('802989.44'))\n",
            "Row(country='Djibouti', total_sales=Decimal('61415.36'))\n",
            "Row(country='Egypt', total_sales=Decimal('130261.76'))\n",
            "Row(country='Nicaragua', total_sales=Decimal('5944506.05'))\n",
            "Row(country='Romania', total_sales=Decimal('1726589.35'))\n",
            "Row(country='Sao Tome and Principe', total_sales=Decimal('301612.8'))\n",
            "Row(country='Liberia', total_sales=Decimal('337990.72'))\n",
            "Row(country='Vanuatu', total_sales=Decimal('1222089.25'))\n",
            "Row(country='Morocco', total_sales=Decimal('503890.08'))\n",
            "Row(country='Lebanon', total_sales=Decimal('3699975.3'))\n",
            "Row(country='Madagascar', total_sales=Decimal('339860.8'))\n",
            "Row(country='Mali', total_sales=Decimal('2884921.59'))\n",
            "Row(country='Togo', total_sales=Decimal('2101183.2'))\n",
            "Row(country='Sri Lanka', total_sales=Decimal('12866.07'))\n",
            "Row(country='Canada', total_sales=Decimal('3263260.8'))\n",
            "Row(country='Vietnam', total_sales=Decimal('652532.32'))\n",
            "Row(country='Mauritius ', total_sales=Decimal('603225.6'))\n",
            "Row(country='Tanzania', total_sales=Decimal('3555764.47'))\n",
            "Row(country='Tunisia ', total_sales=Decimal('1071140.0'))\n",
            "Row(country='Brunei', total_sales=Decimal('868465.4'))\n",
            "Row(country='Seychelles ', total_sales=Decimal('28327.65'))\n",
            "Row(country='Ghana', total_sales=Decimal('1015025.83'))\n",
            "Row(country='Turkmenistan', total_sales=Decimal('3223939.54'))\n",
            "Row(country='Belgium', total_sales=Decimal('231050.71'))\n",
            "Row(country='Iceland', total_sales=Decimal('628499.36'))\n",
            "Row(country='Sweden', total_sales=Decimal('117913.25'))\n",
            "Row(country='Dominican Republic', total_sales=Decimal('69946.72'))\n",
            "Row(country='United Kingdom', total_sales=Decimal('453813.6'))\n",
            "Row(country='United States of America', total_sales=Decimal('348496.72'))\n",
            "Row(country='China', total_sales=Decimal('3771157.11'))\n",
            "Row(country='Greece', total_sales=Decimal('1784241.8'))\n",
            "Row(country='Democratic Republic of the Congo', total_sales=Decimal('1297172.4'))\n",
            "Row(country='Switzerland', total_sales=Decimal('3672173.19'))\n",
            "Row(country='South Africa', total_sales=Decimal('14862.69'))\n",
            "Row(country='Kazakhstan', total_sales=Decimal('206288.16'))\n",
            "Row(country='Papua New Guinea', total_sales=Decimal('1145454.16'))\n",
            "Row(country='India', total_sales=Decimal('816150.42'))\n",
            "Row(country='Thailand', total_sales=Decimal('1871246.04'))\n",
            "Row(country='Haiti', total_sales=Decimal('1336282.92'))\n",
            "Row(country='Estonia', total_sales=Decimal('6666661.52'))\n",
            "Row(country='Kuwait', total_sales=Decimal('979683.82'))\n",
            "Row(country='Czech Republic', total_sales=Decimal('4003440.4'))\n",
            "Row(country='Dominica', total_sales=Decimal('5006276.33'))\n",
            "Row(country='Nepal', total_sales=Decimal('4006267.44'))\n",
            "Row(country='Taiwan', total_sales=Decimal('2007920.12'))\n",
            "Row(country='Antigua and Barbuda ', total_sales=Decimal('4100669.37'))\n",
            "Row(country='Algeria', total_sales=Decimal('4227286.8'))\n",
            "Row(country='Uganda', total_sales=Decimal('2673613.43'))\n",
            "Row(country='France', total_sales=Decimal('2517397.6'))\n",
            "Row(country='Finland', total_sales=Decimal('5552597.84'))\n",
            "Row(country='Monaco', total_sales=Decimal('123797.05'))\n",
            "Row(country='Indonesia', total_sales=Decimal('1176911.59'))\n",
            "Row(country='Netherlands', total_sales=Decimal('92245.71'))\n",
            "Row(country='Burundi', total_sales=Decimal('167640.85'))\n",
            "Row(country='South Korea', total_sales=Decimal('3012716.49'))\n",
            "Row(country='The Gambia', total_sales=Decimal('81161.67'))\n",
            "Row(country='Pakistan', total_sales=Decimal('4205821.41'))\n",
            "Row(country='United Arab Emirates', total_sales=Decimal('6253569.63'))\n",
            "Row(country='Saint Lucia', total_sales=Decimal('33410.73'))\n",
            "Row(country='Samoa ', total_sales=Decimal('3780403.39'))\n",
            "Row(country='Rwanda', total_sales=Decimal('56530.47'))\n",
            "Row(country='Tonga', total_sales=Decimal('1411953.68'))\n",
            "Row(country='New Zealand', total_sales=Decimal('274640.6'))\n",
            "Row(country='Solomon Islands', total_sales=Decimal('2823440.75'))\n",
            "Row(country='Moldova ', total_sales=Decimal('34856.88'))\n",
            "Row(country='Japan', total_sales=Decimal('5608790.11'))\n",
            "Row(country='Belize', total_sales=Decimal('288752.09'))\n",
            "Row(country='Montenegro', total_sales=Decimal('231345.76'))\n",
            "Row(country='Slovakia', total_sales=Decimal('188518.85'))\n",
            "Row(country='The Bahamas', total_sales=Decimal('790991.21'))\n",
            "Row(country='Albania', total_sales=Decimal('2140268.59'))\n",
            "Row(country='Zimbabwe', total_sales=Decimal('6266593.83'))\n",
            "Row(country='Ethiopia', total_sales=Decimal('289426.4'))\n",
            "Row(country='Malawi', total_sales=Decimal('2149107.66'))\n",
            "Row(country='Italy', total_sales=Decimal('3996348.93'))\n",
            "Row(country='East Timor', total_sales=Decimal('53276.3'))\n",
            "Row(country='Singapore', total_sales=Decimal('1171204.08'))\n",
            "Row(country='Oman', total_sales=Decimal('3470056.4'))\n"
          ]
        }
      ]
    },
    {
      "cell_type": "code",
      "source": [
        "# Querying the table gold_sales_by_item_type table to verify\n",
        "rows = session.execute(\"SELECT * FROM gold_sales_by_item_type;\")\n",
        "for row in rows:\n",
        "    print(row)\n",
        "\n"
      ],
      "metadata": {
        "colab": {
          "base_uri": "https://localhost:8080/"
        },
        "id": "Dx6mijwPyE8E",
        "outputId": "bb234842-0be6-40db-ee10-18adaf7f1f1b"
      },
      "execution_count": 52,
      "outputs": [
        {
          "output_type": "stream",
          "name": "stdout",
          "text": [
            "Row(item_type='Household', total_sales=Decimal('38519082.8'))\n",
            "Row(item_type='Office Supplies', total_sales=Decimal('27880904.94'))\n",
            "Row(item_type='Vegetables', total_sales=Decimal('1135114.08'))\n",
            "Row(item_type='Snacks', total_sales=Decimal('2193642.66'))\n",
            "Row(item_type='Personal Care', total_sales=Decimal('3191147.85'))\n",
            "Row(item_type='Meat', total_sales=Decimal('21278865.93'))\n",
            "Row(item_type='Fruits', total_sales=Decimal('615033.6'))\n",
            "Row(item_type='Beverages', total_sales=Decimal('2145024.7'))\n",
            "Row(item_type='Cereal', total_sales=Decimal('9416123.2'))\n",
            "Row(item_type='Cosmetics', total_sales=Decimal('28727100.4'))\n",
            "Row(item_type='Baby Food', total_sales=Decimal('5200564.16'))\n",
            "Row(item_type='Clothes', total_sales=Decimal('4387373.44'))\n"
          ]
        }
      ]
    },
    {
      "cell_type": "code",
      "source": [
        "# Querying the table gold_sales_by_region table to verify\n",
        "rows = session.execute(\"SELECT * FROM gold_sales_by_region;\")\n",
        "for row in rows:\n",
        "    print(row)"
      ],
      "metadata": {
        "colab": {
          "base_uri": "https://localhost:8080/"
        },
        "id": "ugDztcQiyG7X",
        "outputId": "234b5385-c665-42a1-d2c6-2ca7a2cd5f7f"
      },
      "execution_count": 53,
      "outputs": [
        {
          "output_type": "stream",
          "name": "stdout",
          "text": [
            "Row(region='Australia and Oceania', total_sales=Decimal('10711258.13'))\n",
            "Row(region='Europe', total_sales=Decimal('34964749.83'))\n",
            "Row(region='Middle East and North Africa', total_sales=Decimal('24765127.25'))\n",
            "Row(region='Central America and the Caribbean', total_sales=Decimal('17570835.42'))\n",
            "Row(region='Asia', total_sales=Decimal('28840812.19'))\n",
            "Row(region='Sub-Saharan Africa', total_sales=Decimal('24225437.42'))\n",
            "Row(region='North America', total_sales=Decimal('3611757.52'))\n"
          ]
        }
      ]
    }
  ]
}